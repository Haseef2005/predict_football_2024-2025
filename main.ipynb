{
 "cells": [
  {
   "cell_type": "code",
   "execution_count": 2,
   "metadata": {},
   "outputs": [],
   "source": [
    "import pandas as pd\n",
    "import pickle\n",
    "import requests\n",
    "import time\n",
    "from bs4 import BeautifulSoup"
   ]
  },
  {
   "cell_type": "code",
   "execution_count": 3,
   "metadata": {},
   "outputs": [],
   "source": [
    "model = pickle.load(open('XGBoostmodel.pkl','rb'))"
   ]
  },
  {
   "cell_type": "code",
   "execution_count": 4,
   "metadata": {},
   "outputs": [],
   "source": [
    "def rolling_averages(group, cols, new_cols):\n",
    "    group = group.sort_values('date')\n",
    "    # closed = 'left' is take the current week out\n",
    "    rolling_stats = group[cols].rolling(3, closed='left').mean()\n",
    "    group[new_cols] = rolling_stats\n",
    "    group = group.dropna(subset=new_cols)\n",
    "    return group"
   ]
  },
  {
   "cell_type": "code",
   "execution_count": 6,
   "metadata": {},
   "outputs": [],
   "source": [
    "\n",
    "def get_data(team_name, opponent_name, home, time_start, day):\n",
    "    standings_url = 'https://fbref.com/en/comps/9/Premier-League-Stats'\n",
    "    data = requests.get(standings_url)\n",
    "    soup = BeautifulSoup(data.text)\n",
    "    standings_table = soup.select('table.stats_table')[0]\n",
    "    links = [l.get('href') for l in standings_table.find_all('a')]\n",
    "    links = [l for l in links if '/squads/' in l]\n",
    "    name = [l.split('/')[-1].replace('-Stats', '').replace('-',' ') for l in links]\n",
    "    df = pd.DataFrame({'team': name, 'link': links})\n",
    "    team_url = df[df['team'] == team_name]['link'].values[0]\n",
    "\n",
    "    team_data = requests.get(f'https://fbref.com{team_url}')\n",
    "    matches = pd.read_html(team_data.text, match='Scores & Fixtures')[0]\n",
    "\n",
    "    soup = BeautifulSoup(team_data.text)\n",
    "    links = [l.get('href') for l in soup.find_all('a')]\n",
    "    links = [l for l in links if l and '/all_comps/shooting/' in l]\n",
    "    data = requests.get(f'https://fbref.com{links[0]}')\n",
    "    shooting = pd.read_html(data.text, match='Shooting')[0]\n",
    "    shooting.columns = shooting.columns.droplevel()\n",
    "\n",
    "    # Because some team don't have shooting stat then when merge it error\n",
    "    try:\n",
    "        team_data = matches.merge(shooting[['Date', 'Sh', 'SoT', 'Dist', 'FK', 'PK', 'PKatt']], on='Date')\n",
    "    except ValueError:\n",
    "        # nothing to do\n",
    "        pass\n",
    "\n",
    "    # only want teamd data in PremierLeauge compettition\n",
    "    team_data = team_data[team_data['Comp'] == 'Premier League']\n",
    "    team_data['Season'] = 2024\n",
    "    team_data['Team'] = team_name\n",
    "    team_data.columns = [c.lower() for c in team_data.columns]\n",
    "\n",
    "    # from parameter\n",
    "    opponent_code_df = pd.read_csv('team_code.csv')\n",
    "    opp_code = opponent_code_df[opponent_code_df['opponent'] == opponent_name]['opp_code'].values[0]\n",
    "    venue_Home = 1 if home else 0\n",
    "    mapping_day = {'Mon': 0, 'Tue': 1, 'Wed': 2, 'Thu': 3, 'Fri': 4, 'Sat': 5, 'Sun': 6}\n",
    "    day_code = mapping_day[day]\n",
    "    hour = time_start\n",
    "\n",
    "    cols = ['gf', 'ga', 'sh', 'sot', 'dist', 'fk', 'pk', 'pkatt', 'xg', 'xga']\n",
    "    new_cols = [f'{c}_rollinig' for c in cols]\n",
    "\n",
    "    team_data['date'] = pd.to_datetime(team_data['date'])\n",
    "    team_data = team_data.groupby('team').apply(lambda x: rolling_averages(x, cols, new_cols))\n",
    "    team_data = team_data.droplevel('team')\n",
    "    team_data.index = range(team_data.shape[0])\n",
    "\n",
    "    team_data = team_data.tail(1)\n",
    "    team_data['opp_code'] = opp_code\n",
    "    team_data['venue_Home'] = venue_Home\n",
    "    team_data['day_code'] = day_code\n",
    "    team_data['hour'] = hour\n",
    "\n",
    "    cols_to_return = ['venue_Home', 'opp_code', 'hour', 'day_code'] + new_cols\n",
    "\n",
    "    return team_data[cols_to_return]\n",
    "\n"
   ]
  },
  {
   "cell_type": "code",
   "execution_count": 7,
   "metadata": {},
   "outputs": [],
   "source": [
    "def predict_match(model, match_data_team1, match_data_team2):\n",
    "    inverse_mapping = { 1: 'Win', 0: 'Not win'}\n",
    "    match_data_to_predict = pd.concat([match_data_team1, match_data_team2], axis=0)\n",
    "    predicted = model.predict(match_data_to_predict)\n",
    "    predicted_team1 = inverse_mapping[predicted[0]]\n",
    "    predicted_team2 = inverse_mapping[predicted[1]]\n",
    "    return predicted_team1, predicted_team2"
   ]
  },
  {
   "cell_type": "code",
   "execution_count": 10,
   "metadata": {},
   "outputs": [
    {
     "name": "stderr",
     "output_type": "stream",
     "text": [
      "C:\\Users\\phumi\\AppData\\Local\\Temp\\ipykernel_26180\\3794418551.py:13: FutureWarning: Passing literal html to 'read_html' is deprecated and will be removed in a future version. To read from a literal string, wrap it in a 'StringIO' object.\n",
      "  matches = pd.read_html(team_data.text, match='Scores & Fixtures')[0]\n",
      "C:\\Users\\phumi\\AppData\\Local\\Temp\\ipykernel_26180\\3794418551.py:19: FutureWarning: Passing literal html to 'read_html' is deprecated and will be removed in a future version. To read from a literal string, wrap it in a 'StringIO' object.\n",
      "  shooting = pd.read_html(data.text, match='Shooting')[0]\n",
      "C:\\Users\\phumi\\AppData\\Local\\Temp\\ipykernel_26180\\3794418551.py:47: DeprecationWarning: DataFrameGroupBy.apply operated on the grouping columns. This behavior is deprecated, and in a future version of pandas the grouping columns will be excluded from the operation. Either pass `include_groups=False` to exclude the groupings or explicitly select the grouping columns after groupby to silence this warning.\n",
      "  team_data = team_data.groupby('team').apply(lambda x: rolling_averages(x, cols, new_cols))\n",
      "C:\\Users\\phumi\\AppData\\Local\\Temp\\ipykernel_26180\\3794418551.py:13: FutureWarning: Passing literal html to 'read_html' is deprecated and will be removed in a future version. To read from a literal string, wrap it in a 'StringIO' object.\n",
      "  matches = pd.read_html(team_data.text, match='Scores & Fixtures')[0]\n",
      "C:\\Users\\phumi\\AppData\\Local\\Temp\\ipykernel_26180\\3794418551.py:19: FutureWarning: Passing literal html to 'read_html' is deprecated and will be removed in a future version. To read from a literal string, wrap it in a 'StringIO' object.\n",
      "  shooting = pd.read_html(data.text, match='Shooting')[0]\n",
      "C:\\Users\\phumi\\AppData\\Local\\Temp\\ipykernel_26180\\3794418551.py:47: DeprecationWarning: DataFrameGroupBy.apply operated on the grouping columns. This behavior is deprecated, and in a future version of pandas the grouping columns will be excluded from the operation. Either pass `include_groups=False` to exclude the groupings or explicitly select the grouping columns after groupby to silence this warning.\n",
      "  team_data = team_data.groupby('team').apply(lambda x: rolling_averages(x, cols, new_cols))\n"
     ]
    }
   ],
   "source": [
    "# Input Here \n",
    "time_start = 19\n",
    "day = 'Wed'\n",
    "\n",
    "# First Team\n",
    "team1 = 'Southampton'\n",
    "team2_opp = 'Chelsea'\n",
    "home1 = True\n",
    "\n",
    "# Second Team\n",
    "team1_y = 'Chelsea'\n",
    "team2_opp_y = 'Southampton'\n",
    "home2 = False\n",
    "\n",
    "match_data_team1 = get_data(team1, team2_opp, home=home1, time_start=time_start, day=day)\n",
    "time.sleep(5)\n",
    "match_data_team2 = get_data(team1_y, team2_opp_y, home=home2, time_start=time_start, day=day)"
   ]
  },
  {
   "cell_type": "code",
   "execution_count": 11,
   "metadata": {},
   "outputs": [
    {
     "name": "stdout",
     "output_type": "stream",
     "text": [
      "Southampton will: Not win Chelsea\n",
      "Chelsea will: Win Southampton\n"
     ]
    }
   ],
   "source": [
    "predicted_mutd_labels, predicted_ars_labels = predict_match(model, match_data_team1, match_data_team2)\n",
    "\n",
    "print(f'{team1} will: {predicted_mutd_labels} {team2_opp}')\n",
    "print(f'{team1_y} will: {predicted_ars_labels} {team2_opp_y}')"
   ]
  }
 ],
 "metadata": {
  "kernelspec": {
   "display_name": "predict-football",
   "language": "python",
   "name": "python3"
  },
  "language_info": {
   "codemirror_mode": {
    "name": "ipython",
    "version": 3
   },
   "file_extension": ".py",
   "mimetype": "text/x-python",
   "name": "python",
   "nbconvert_exporter": "python",
   "pygments_lexer": "ipython3",
   "version": "3.12.7"
  }
 },
 "nbformat": 4,
 "nbformat_minor": 2
}
