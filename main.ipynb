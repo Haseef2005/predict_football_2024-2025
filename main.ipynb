{
 "cells": [
  {
   "cell_type": "code",
   "execution_count": 1,
   "metadata": {},
   "outputs": [],
   "source": [
    "import pandas as pd\n",
    "import pickle\n",
    "import requests\n",
    "import time\n",
    "from bs4 import BeautifulSoup"
   ]
  },
  {
   "cell_type": "code",
   "execution_count": 2,
   "metadata": {},
   "outputs": [],
   "source": [
    "model = pickle.load(open('XGBoostmodel.pkl','rb'))"
   ]
  },
  {
   "cell_type": "code",
   "execution_count": 3,
   "metadata": {},
   "outputs": [],
   "source": [
    "def rolling_averages(group, cols, new_cols):\n",
    "    group = group.sort_values('date')\n",
    "    # closed = 'left' is take the current week out\n",
    "    rolling_stats = group[cols].rolling(3, closed='left').mean()\n",
    "    group[new_cols] = rolling_stats\n",
    "    group = group.dropna(subset=new_cols)\n",
    "    return group"
   ]
  },
  {
   "cell_type": "code",
   "execution_count": 35,
   "metadata": {},
   "outputs": [],
   "source": [
    "\n",
    "def get_data(team_name, opponent_name, home, time_start, day):\n",
    "    standings_url = 'https://fbref.com/en/comps/9/Premier-League-Stats'\n",
    "    data = requests.get(standings_url)\n",
    "    soup = BeautifulSoup(data.text)\n",
    "    standings_table = soup.select('table.stats_table')[0]\n",
    "    links = [l.get('href') for l in standings_table.find_all('a')]\n",
    "    links = [l for l in links if '/squads/' in l]\n",
    "    name = [l.split('/')[-1].replace('-Stats', '').replace('-',' ') for l in links]\n",
    "    df = pd.DataFrame({'team': name, 'link': links})\n",
    "    team_url = df[df['team'] == team_name]['link'].values[0]\n",
    "\n",
    "    team_data = requests.get(f'https://fbref.com{team_url}')\n",
    "    matches = pd.read_html(team_data.text, match='Scores & Fixtures')[0]\n",
    "\n",
    "    soup = BeautifulSoup(team_data.text)\n",
    "    links = [l.get('href') for l in soup.find_all('a')]\n",
    "    links = [l for l in links if l and '/all_comps/shooting/' in l]\n",
    "    data = requests.get(f'https://fbref.com{links[0]}')\n",
    "    shooting = pd.read_html(data.text, match='Shooting')[0]\n",
    "    shooting.columns = shooting.columns.droplevel()\n",
    "\n",
    "    # Because some team don't have shooting stat then when merge it error\n",
    "    try:\n",
    "        team_data = matches.merge(shooting[['Date', 'Sh', 'SoT', 'Dist', 'FK', 'PK', 'PKatt']], on='Date')\n",
    "    except ValueError:\n",
    "        # nothing to do\n",
    "        pass\n",
    "\n",
    "    # only want teamd data in PremierLeauge compettition\n",
    "    team_data = team_data[team_data['Comp'] == 'Premier League']\n",
    "    team_data['Season'] = 2024\n",
    "    team_data['Team'] = team_name\n",
    "    team_data.columns = [c.lower() for c in team_data.columns]\n",
    "\n",
    "    # from parameter\n",
    "    opponent_code_df = pd.read_csv('team_code.csv')\n",
    "    opp_code = opponent_code_df[opponent_code_df['opponent'] == opponent_name]['opp_code'].values[0]\n",
    "    venue_Home = 1 if home else 0\n",
    "    mapping_day = {'Mon': 0, 'Tue': 1, 'Wed': 2, 'Thu': 3, 'Fri': 4, 'Sat': 5, 'Sun': 6}\n",
    "    day_code = mapping_day[day]\n",
    "    hour = time_start\n",
    "\n",
    "    cols = ['gf', 'ga', 'sh', 'sot', 'dist', 'fk', 'pk', 'pkatt', 'xg', 'xga']\n",
    "    new_cols = [f'{c}_rollinig' for c in cols]\n",
    "\n",
    "    team_data['date'] = pd.to_datetime(team_data['date'])\n",
    "    team_data = team_data.groupby('team').apply(lambda x: rolling_averages(x, cols, new_cols))\n",
    "    team_data = team_data.droplevel('team')\n",
    "    team_data.index = range(team_data.shape[0])\n",
    "\n",
    "    team_data = team_data.tail(1)\n",
    "    team_data['opp_code'] = opp_code\n",
    "    team_data['venue_Home'] = venue_Home\n",
    "    team_data['day_code'] = day_code\n",
    "    team_data['hour'] = hour\n",
    "\n",
    "    cols_to_return = ['venue_Home', 'opp_code', 'hour', 'day_code'] + new_cols\n",
    "\n",
    "    return team_data[cols_to_return]\n",
    "\n"
   ]
  },
  {
   "cell_type": "code",
   "execution_count": 36,
   "metadata": {},
   "outputs": [],
   "source": [
    "def predict_match(model, match_data_team1, match_data_team2):\n",
    "    inverse_mapping = { 1: 'Win', 0: 'Not win'}\n",
    "    match_data_to_predict = pd.concat([match_data_team1, match_data_team2], axis=0)\n",
    "    predicted = model.predict(match_data_to_predict)\n",
    "    predicted_team1 = inverse_mapping[predicted[0]]\n",
    "    predicted_team2 = inverse_mapping[predicted[1]]\n",
    "    return predicted_team1, predicted_team2"
   ]
  },
  {
   "cell_type": "code",
   "execution_count": 37,
   "metadata": {},
   "outputs": [
    {
     "name": "stderr",
     "output_type": "stream",
     "text": [
      "C:\\Users\\phumi\\AppData\\Local\\Temp\\ipykernel_14128\\3794418551.py:13: FutureWarning: Passing literal html to 'read_html' is deprecated and will be removed in a future version. To read from a literal string, wrap it in a 'StringIO' object.\n",
      "  matches = pd.read_html(team_data.text, match='Scores & Fixtures')[0]\n",
      "C:\\Users\\phumi\\AppData\\Local\\Temp\\ipykernel_14128\\3794418551.py:19: FutureWarning: Passing literal html to 'read_html' is deprecated and will be removed in a future version. To read from a literal string, wrap it in a 'StringIO' object.\n",
      "  shooting = pd.read_html(data.text, match='Shooting')[0]\n",
      "C:\\Users\\phumi\\AppData\\Local\\Temp\\ipykernel_14128\\3794418551.py:47: DeprecationWarning: DataFrameGroupBy.apply operated on the grouping columns. This behavior is deprecated, and in a future version of pandas the grouping columns will be excluded from the operation. Either pass `include_groups=False` to exclude the groupings or explicitly select the grouping columns after groupby to silence this warning.\n",
      "  team_data = team_data.groupby('team').apply(lambda x: rolling_averages(x, cols, new_cols))\n",
      "C:\\Users\\phumi\\AppData\\Local\\Temp\\ipykernel_14128\\3794418551.py:13: FutureWarning: Passing literal html to 'read_html' is deprecated and will be removed in a future version. To read from a literal string, wrap it in a 'StringIO' object.\n",
      "  matches = pd.read_html(team_data.text, match='Scores & Fixtures')[0]\n",
      "C:\\Users\\phumi\\AppData\\Local\\Temp\\ipykernel_14128\\3794418551.py:19: FutureWarning: Passing literal html to 'read_html' is deprecated and will be removed in a future version. To read from a literal string, wrap it in a 'StringIO' object.\n",
      "  shooting = pd.read_html(data.text, match='Shooting')[0]\n",
      "C:\\Users\\phumi\\AppData\\Local\\Temp\\ipykernel_14128\\3794418551.py:47: DeprecationWarning: DataFrameGroupBy.apply operated on the grouping columns. This behavior is deprecated, and in a future version of pandas the grouping columns will be excluded from the operation. Either pass `include_groups=False` to exclude the groupings or explicitly select the grouping columns after groupby to silence this warning.\n",
      "  team_data = team_data.groupby('team').apply(lambda x: rolling_averages(x, cols, new_cols))\n"
     ]
    }
   ],
   "source": [
    "# I will predict ManUTD vs Arsenal at emirates stadium 4th December 2024\n",
    "match_data_mutd = get_data('Manchester United', 'Arsenal', home=False, time_start=20, day='Thu')\n",
    "time.sleep(5)\n",
    "match_data_arsenal = get_data('Arsenal', 'Manchester Utd', home=True, time_start=20, day='Thu')"
   ]
  },
  {
   "cell_type": "code",
   "execution_count": 38,
   "metadata": {},
   "outputs": [
    {
     "data": {
      "text/html": [
       "<div>\n",
       "<style scoped>\n",
       "    .dataframe tbody tr th:only-of-type {\n",
       "        vertical-align: middle;\n",
       "    }\n",
       "\n",
       "    .dataframe tbody tr th {\n",
       "        vertical-align: top;\n",
       "    }\n",
       "\n",
       "    .dataframe thead th {\n",
       "        text-align: right;\n",
       "    }\n",
       "</style>\n",
       "<table border=\"1\" class=\"dataframe\">\n",
       "  <thead>\n",
       "    <tr style=\"text-align: right;\">\n",
       "      <th></th>\n",
       "      <th>venue_Home</th>\n",
       "      <th>opp_code</th>\n",
       "      <th>hour</th>\n",
       "      <th>day_code</th>\n",
       "      <th>gf_rollinig</th>\n",
       "      <th>ga_rollinig</th>\n",
       "      <th>sh_rollinig</th>\n",
       "      <th>sot_rollinig</th>\n",
       "      <th>dist_rollinig</th>\n",
       "      <th>fk_rollinig</th>\n",
       "      <th>pk_rollinig</th>\n",
       "      <th>pkatt_rollinig</th>\n",
       "      <th>xg_rollinig</th>\n",
       "      <th>xga_rollinig</th>\n",
       "    </tr>\n",
       "  </thead>\n",
       "  <tbody>\n",
       "    <tr>\n",
       "      <th>9</th>\n",
       "      <td>0</td>\n",
       "      <td>0</td>\n",
       "      <td>20</td>\n",
       "      <td>3</td>\n",
       "      <td>1.666667</td>\n",
       "      <td>0.666667</td>\n",
       "      <td>11.333333</td>\n",
       "      <td>3.333333</td>\n",
       "      <td>18.4</td>\n",
       "      <td>0.666667</td>\n",
       "      <td>0.333333</td>\n",
       "      <td>0.333333</td>\n",
       "      <td>1.2</td>\n",
       "      <td>1.1</td>\n",
       "    </tr>\n",
       "  </tbody>\n",
       "</table>\n",
       "</div>"
      ],
      "text/plain": [
       "   venue_Home  opp_code  hour  day_code  gf_rollinig  ga_rollinig  \\\n",
       "9           0         0    20         3     1.666667     0.666667   \n",
       "\n",
       "   sh_rollinig  sot_rollinig  dist_rollinig  fk_rollinig  pk_rollinig  \\\n",
       "9    11.333333      3.333333           18.4     0.666667     0.333333   \n",
       "\n",
       "   pkatt_rollinig  xg_rollinig  xga_rollinig  \n",
       "9        0.333333          1.2           1.1  "
      ]
     },
     "execution_count": 38,
     "metadata": {},
     "output_type": "execute_result"
    }
   ],
   "source": [
    "match_data_mutd"
   ]
  },
  {
   "cell_type": "code",
   "execution_count": 39,
   "metadata": {},
   "outputs": [
    {
     "data": {
      "text/plain": [
       "(1, 14)"
      ]
     },
     "execution_count": 39,
     "metadata": {},
     "output_type": "execute_result"
    }
   ],
   "source": [
    "match_data_arsenal.shape"
   ]
  },
  {
   "cell_type": "code",
   "execution_count": 40,
   "metadata": {},
   "outputs": [
    {
     "name": "stdout",
     "output_type": "stream",
     "text": [
      "Manchester will: Not win Arsenal\n",
      "Arsenal will: Win Manchester United\n"
     ]
    }
   ],
   "source": [
    "predicted_mutd_labels, predicted_ars_labels = predict_match(model, match_data_mutd, match_data_arsenal)\n",
    "\n",
    "print(f'Manchester will: {predicted_mutd_labels} Arsenal')\n",
    "print(f'Arsenal will: {predicted_ars_labels} Manchester United')"
   ]
  },
  {
   "cell_type": "code",
   "execution_count": 4,
   "metadata": {},
   "outputs": [
    {
     "name": "stdout",
     "output_type": "stream",
     "text": [
      "200\n"
     ]
    }
   ],
   "source": [
    "import requests\n",
    "headers = {'User-Agent': 'Mozilla/5.0 (Windows NT 10.0; Win64; x64) AppleWebKit/537.36 (KHTML, like Gecko) Chrome/115.0.0.0 Safari/537.36'}\n",
    "response = requests.get('https://fbref.com', headers=headers)\n",
    "print(response.status_code)  # Should be 200 if allowed"
   ]
  }
 ],
 "metadata": {
  "kernelspec": {
   "display_name": "predict-football",
   "language": "python",
   "name": "python3"
  },
  "language_info": {
   "codemirror_mode": {
    "name": "ipython",
    "version": 3
   },
   "file_extension": ".py",
   "mimetype": "text/x-python",
   "name": "python",
   "nbconvert_exporter": "python",
   "pygments_lexer": "ipython3",
   "version": "3.12.7"
  }
 },
 "nbformat": 4,
 "nbformat_minor": 2
}
